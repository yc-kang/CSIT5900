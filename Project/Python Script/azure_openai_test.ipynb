{
 "cells": [
  {
   "cell_type": "markdown",
   "id": "01d7d448-0244-4469-bc75-448f0511a854",
   "metadata": {},
   "source": [
    "### CSIT5900 GenAI Project\n",
    "Versions [[Link](https://itsc.hkust.edu.hk/services/it-infrastructure/azure-openai-api-service)]:\n",
    "- Model: gpt-4, gpt-4-32k, gpt-4-turbo, gpt-4o, gpt-4o-mini\n",
    "- API Versions: 2023-05-15, 2024-02-01, 2024-06-01"
   ]
  },
  {
   "cell_type": "code",
   "execution_count": 1,
   "id": "3db13ec7-2513-4ede-906b-cfd447a0adf3",
   "metadata": {},
   "outputs": [
    {
     "name": "stdout",
     "output_type": "stream",
     "text": [
      "Sure, based on the conditions provided, here you're unavailability dictionary:\n",
      "\n",
      "```python\n",
      "unavailability = { \n",
      "    \"Student A\": [(\"Monday\", \"2PM-3PM\"), (\"Monday\", \"3PM-4PM\"), (\"Wednesday\", \"2PM-3PM\"), (\"Wednesday\", \"3PM-4PM\"), (\"Tuesday\", \"7PM-8PM\"), (\"Tuesday\", \"8PM-9PM\"), (\"Thursday\", \"7PM-8PM\"), (\"Thursday\", \"8PM-9PM\")],\n",
      "    \"Student B\": [(\"Monday\", \"9AM-10AM\"), (\"Monday\", \"10AM-11AM\"), (\"Tuesday\", \"1PM-2PM\"), (\"Tuesday\", \"2PM-3PM\"), (\"Thursday\", \"1PM-2PM\"), (\"Thursday\", \"2PM-3PM\")],\n",
      "    \"Student C\": [(\"Monday\", \"8AM-9AM\"), (\"Monday\", \"9AM-10AM\"), (\"Tuesday\", \"8AM-9AM\"), (\"Tuesday\", \"9AM-10AM\"), (\"Wednesday\", \"8AM-9AM\"), (\"Wednesday\", \"9AM-10AM\"), (\"Thursday\", \"8AM-9AM\"), (\"Thursday\", \"9AM-10AM\"), (\"Friday\", \"8AM-9AM\"), (\"Friday\", \"9AM-10AM\"), (\"Saturday\", \"3PM-4PM\"), (\"Saturday\", \"4PM-5PM\"), (\"Sunday\", \"3PM-4PM\"), (\"Sunday\", \"4PM-5PM\"), (\"Friday\", \"6PM-7PM\"), (\"Friday\", \"7PM-8PM\")],\n",
      "    \"Student D\": [(\"Monday\", \"10AM-11AM\"), (\"Monday\", \"11AM-12PM\"), (\"Friday\", \"10AM-11AM\"), (\"Friday\", \"11AM-12PM\"), (\"Tuesday\", \"3PM-4PM\"), (\"Tuesday\", \"4PM-5PM\")],\n",
      "    \"Student E\": [(\"Wednesday\", \"7PM-8PM\"), (\"Wednesday\", \"8PM-9PM\"), (\"Saturday\", \"2PM-3PM\"), (\"Saturday\", \"3PM-4PM\"), (\"Sunday\", \"2PM-3PM\"), (\"Sunday\", \"3PM-4PM\"), (\"Sunday\", \"4PM-5PM\")],\n",
      "    \"Student F\": [(\"Monday\", \"1PM-2PM\"), (\"Monday\", \"2PM-3PM\"), (\"Tuesday\", \"1PM-2PM\"), (\"Tuesday\", \"2PM-3PM\"), (\"Wednesday\", \"1PM-2PM\"), (\"Wednesday\", \"2PM-3PM\"), (\"Thursday\", \"1PM-2PM\"), (\"Thursday\", \"2PM-3PM\"), (\"Friday\", \"1PM-2PM\"), (\"Friday\", \"2PM-3PM\"), (\"Sunday\", \"1PM-2PM\"), (\"Sunday\", \"2PM-3PM\"), (\"Wednesday\", \"5PM-6PM\")],\n",
      "    \"Student G\": [(\"Monday\", \"6PM-7PM\"), (\"Monday\", \"7PM-8PM\"), (\"Tuesday\", \"6PM-7PM\"), (\"Tuesday\", \"7PM-8PM\"), (\"Thursday\", \"4PM-5PM\"), (\"Thursday\", \"5PM-6PM\")],\n",
      "    \"Student H\": [(\"Monday\", \"9AM-10AM\"), (\"Monday\", \"10AM-11AM\"), (\"Tuesday\", \"9AM-10AM\"), (\"Tuesday\", \"10AM-11AM\"), (\"Wednesday\", \"9AM-10AM\"), (\"Wednesday\", \"10AM-11AM\"), (\"Thursday\", \"9AM-10AM\"), (\"Thursday\", \"10AM-11AM\"), (\"Friday\", \"9AM-10AM\"), (\"Friday\", \"10AM-11AM\"), (\"Saturday\", \"1PM-2PM\"), (\"Saturday\", \"2PM-3PM\"), (\"Sunday\", \"1PM-2PM\"), (\"Sunday\", \"2PM-3PM\")],\n",
      "    \"Student I\": [(\"Thursday\", \"3PM-4PM\"), (\"Thursday\", \"4PM-5PM\"), (\"Saturday\", \"8AM-9AM\"), (\"Saturday\", \"9AM-10AM\"), (\"Saturday\", \"10AM-11AM\"), (\"Saturday\", \"11AM-12PM\"), (\"Saturday\", \"12PM-1PM\"), (\"Saturday\", \"1PM-2PM\"), (\"Saturday\", \"2PM-3PM\"), (\"Saturday\", \"3PM-4PM\"), (\"Saturday\", \"4PM-5PM\"), (\"Saturday\", \"5PM-6PM\"), (\"Saturday\", \"6PM-7PM\"), (\"Saturday\", \"7PM-8PM\"), (\"Saturday\", \"8PM-9PM\"), (\"Saturday\", \"9PM-10PM\"), (\"Sunday\", \"8AM-9AM\"), (\"Sunday\", \"9AM-10AM\"), (\"Sunday\", \"10AM-11AM\"), (\"Sunday\", \"11AM-12PM\"), (\"Sunday\", \"12PM-1PM\"), (\"Sunday\", \"1PM-2PM\"), (\"Sunday\", \"2PM-3PM\"), (\"Sunday\", \"3PM-4PM\"), (\"Sunday\", \"4PM-5PM\"), (\"Sunday\", \"5PM-6PM\"), (\"Sunday\", \"6PM-7PM\"), (\"Sunday\", \"7PM-8PM\"), (\"Sunday\", \"8PM-9PM\"), (\"Sunday\", \"9PM-10PM\")],\n",
      "    \"Student J\": [(\"Monday\", \"8PM-9PM\"), (\"Monday\", \"9PM-10PM\"), (\"Tuesday\", \"8PM-9PM\"), (\"Tuesday\", \"9PM-10PM\"), (\"Wednesday\", \"8PM-9PM\"), (\"Wednesday\", \"9PM-10PM\"), (\"Thursday\", \"8PM-9PM\"), (\"Thursday\", \"9PM-10PM\"), (\"Friday\", \"8PM-9PM\"), (\"Friday\", \"9PM-10PM\"), (\"Saturday\", \"8AM-9AM\"), (\"Saturday\", \"9AM-10AM\"), (\"Saturday\", \"10AM-11AM\"), (\"Saturday\", \"11AM-12PM\"), (\"Saturday\", \"12PM-1PM\"), (\"Saturday\", \"1PM-2PM\"), (\"Saturday\", \"2PM-3PM\"), (\"Saturday\", \"3PM-4PM\"), (\"Saturday\", \"4PM-5PM\"), (\"Saturday\", \"5PM-6PM\"), (\"Saturday\", \"6PM-7PM\"), (\"Saturday\", \"7PM-8PM\"), (\"Saturday\", \"8PM-9PM\"), (\"Saturday\", \"9PM-10PM\")]\n",
      "}\n",
      "```\n",
      "This dictionary assumes that when a student did not specify a time in which they are available, they are unavailable during all time slots of that day. Thus, all time slots during the weekends have been added to the unavailable slots for Students I and J.\n",
      "\n"
     ]
    }
   ],
   "source": [
    "from openai import AzureOpenAI\n",
    "import pandas as pd\n",
    "    \n",
    "# Initialize Azure OpenAI client\n",
    "client = AzureOpenAI(\n",
    "    api_key=\"\",\n",
    "    api_version=\"2024-06-01\",\n",
    "    azure_endpoint=\"https://hkust.azure-api.net\"\n",
    ")\n",
    "\n",
    "# Define model\n",
    "current_model = \"gpt-4\"\n",
    "\n",
    "# Task constraints prompt\n",
    "task_prompt = \"\"\"\n",
    "Ten students are working on a group project and provided details on their unavailability. Based on each student's schedule, we need to construct a dictionary that records when each student is unavailable for meetings. Each unavailability interval is one hour long, with slots defined from 8 AM to 10 PM each day. The following keywords have specific meanings:\n",
    "- \"Morning\" indicates 8 AM to 12 PM.\n",
    "- \"Afternoon\" indicates 1 PM to 5 PM.\n",
    "- \"Evening\" indicates 6 PM to 10 PM.\n",
    "- \"Every day\" means Monday to Sunday.\n",
    "- \"Weekdays\" means Monday to Friday.\n",
    "- \"Weekends\" means Saturday and Sunday.\n",
    "- A specific day in a week, for example \"Saturday\", without specify time, indicates 8AM to 10PM.\n",
    "- \"Weekends\" without specify time means Saturday and Sunday, indicates 8AM to 10PM.\n",
    "\n",
    "The timeslots we are considering each day are: 8AM-9AM, 9AM-10AM, 10AM-11AM, 11AM-12PM, 12PM-1PM, 1PM-2PM, 2PM-3PM, 3PM-4PM, 4PM-5PM, 5PM-6PM, 6PM-7PM, 7PM-8PM, 8PM-9PM, and 9PM-10PM.\n",
    "\n",
    "For each student, based on their constraints, generate a dictionary entry showing their unavailability in the format:\n",
    "unavailability = { \"Student A\": [(\"Monday\", \"2PM-3PM\"), (\"Monday\", \"3PM-4PM\"), (\"Wednesday\", \"2PM-3PM\"), (\"Wednesday\", \"3PM-4PM\"), (\"Tuesday\", \"7PM-8PM\"), (\"Tuesday\", \"8PM-9PM\"), (\"Thursday\", \"7PM-8PM\"), (\"Thursday\", \"8PM-9PM\")], ... }\n",
    "\n",
    "Student constraints:\n",
    "- Student A: I have classes on Monday and Wednesday from 2 PM to 4 PM, club activities on Tuesday and Thursday evenings from 7 PM to 9 PM, and I'm available on Friday afternoons.\n",
    "- Student B: I have a lab on Monday from 9 AM to 11 AM, classes on Tuesday and Thursday afternoons from 1 PM to 3 PM, and I’m free all day on Friday, but I might have to work late in the evening after 10 PM.\n",
    "- Student C: I have classes every weekday morning from 8 AM to 10 AM. I may have to work on weekends from 3 PM to 5 PM. If A calls me on Friday morning, we’ll go play tennis in the afternoon 6 PM – 8 PM. I’m free otherwise.\n",
    "- Student D: I have classes on Monday and Friday from 10 AM to 12 PM, commitments on Tuesday afternoons from 3 PM to 5 PM.\n",
    "- Student E: I have group discussions on Wednesday evenings from 7 PM to 9 PM, and I participate in volunteer activities on weekends, usually free from 2 PM to 5 PM.\n",
    "- Student F: I have labs every afternoon from 1 PM to 3 PM, and I'm free on Saturday and Sunday mornings, but I might go out on Sunday afternoons. I’m working with student D and student I on another project. We have regular meetings Wednesdays 5 PM to 6 PM. However, we can reschedule our meeting if needed.\n",
    "- Student G: I have classes on Monday and Tuesday evenings from 6 PM to 8 PM, training on Thursday afternoons from 4 PM to 6 PM, and I'm usually free on Wednesday and Friday afternoons.\n",
    "- Student H: I have classes from Monday to Friday from 9 AM to 11 AM, and I usually go to the gym on weekend afternoons from 1 PM to 3 PM.\n",
    "- Student I: I have a meeting on Thursday afternoons from 3 PM to 5 PM; I’m available at other times, but I might travel on the weekend.\n",
    "- Student J: I study every evening from 8 PM to 10 PM, have no classes on Thursday and Sunday afternoons, but I will gather with my family on Saturday.\n",
    "\n",
    "Using this information, create an unavailability dictionary in the specified format for each student based on their constraints.\n",
    "\"\"\"\n",
    "\n",
    "# Test code to get a response\n",
    "response = client.chat.completions.create(\n",
    "    model=current_model,\n",
    "    messages=[\n",
    "        {\"role\": \"system\", \"content\": \"You're a helpful assistant.\"},\n",
    "        {\"role\": \"user\", \"content\": task_prompt},\n",
    "    ],\n",
    ")\n",
    "\n",
    "# Print the response\n",
    "response_text = (response.choices[0].message.content)\n",
    "print(response_text)"
   ]
  },
  {
   "cell_type": "markdown",
   "id": "44e73485-3bb1-40da-a088-1e46ca533afd",
   "metadata": {},
   "source": [
    "Steps:\n",
    "- Extract the generated dictionary string into an actual dictionary\n",
    "- Convert the dictionary into pandas dataframe (tabular form)\n",
    "- Further export as excel file"
   ]
  },
  {
   "cell_type": "code",
   "execution_count": 3,
   "id": "f96f0518-aad6-44ba-9e37-e3573f25a5e6",
   "metadata": {},
   "outputs": [
    {
     "name": "stdout",
     "output_type": "stream",
     "text": [
      "Extracted unavailability dictionary:\n",
      "{'Student A': [('Monday', '2PM-3PM'), ('Monday', '3PM-4PM'), ('Wednesday', '2PM-3PM'), ('Wednesday', '3PM-4PM'), ('Tuesday', '7PM-8PM'), ('Tuesday', '8PM-9PM'), ('Thursday', '7PM-8PM'), ('Thursday', '8PM-9PM')], 'Student B': [('Monday', '9AM-10AM'), ('Monday', '10AM-11AM'), ('Tuesday', '1PM-2PM'), ('Tuesday', '2PM-3PM'), ('Thursday', '1PM-2PM'), ('Thursday', '2PM-3PM')], 'Student C': [('Monday', '8AM-9AM'), ('Monday', '9AM-10AM'), ('Tuesday', '8AM-9AM'), ('Tuesday', '9AM-10AM'), ('Wednesday', '8AM-9AM'), ('Wednesday', '9AM-10AM'), ('Thursday', '8AM-9AM'), ('Thursday', '9AM-10AM'), ('Friday', '8AM-9AM'), ('Friday', '9AM-10AM'), ('Saturday', '3PM-4PM'), ('Saturday', '4PM-5PM'), ('Sunday', '3PM-4PM'), ('Sunday', '4PM-5PM'), ('Friday', '6PM-7PM'), ('Friday', '7PM-8PM')], 'Student D': [('Monday', '10AM-11AM'), ('Monday', '11AM-12PM'), ('Friday', '10AM-11AM'), ('Friday', '11AM-12PM'), ('Tuesday', '3PM-4PM'), ('Tuesday', '4PM-5PM')], 'Student E': [('Wednesday', '7PM-8PM'), ('Wednesday', '8PM-9PM'), ('Saturday', '2PM-3PM'), ('Saturday', '3PM-4PM'), ('Sunday', '2PM-3PM'), ('Sunday', '3PM-4PM'), ('Sunday', '4PM-5PM')], 'Student F': [('Monday', '1PM-2PM'), ('Monday', '2PM-3PM'), ('Tuesday', '1PM-2PM'), ('Tuesday', '2PM-3PM'), ('Wednesday', '1PM-2PM'), ('Wednesday', '2PM-3PM'), ('Thursday', '1PM-2PM'), ('Thursday', '2PM-3PM'), ('Friday', '1PM-2PM'), ('Friday', '2PM-3PM'), ('Sunday', '1PM-2PM'), ('Sunday', '2PM-3PM'), ('Wednesday', '5PM-6PM')], 'Student G': [('Monday', '6PM-7PM'), ('Monday', '7PM-8PM'), ('Tuesday', '6PM-7PM'), ('Tuesday', '7PM-8PM'), ('Thursday', '4PM-5PM'), ('Thursday', '5PM-6PM')], 'Student H': [('Monday', '9AM-10AM'), ('Monday', '10AM-11AM'), ('Tuesday', '9AM-10AM'), ('Tuesday', '10AM-11AM'), ('Wednesday', '9AM-10AM'), ('Wednesday', '10AM-11AM'), ('Thursday', '9AM-10AM'), ('Thursday', '10AM-11AM'), ('Friday', '9AM-10AM'), ('Friday', '10AM-11AM'), ('Saturday', '1PM-2PM'), ('Saturday', '2PM-3PM'), ('Sunday', '1PM-2PM'), ('Sunday', '2PM-3PM')], 'Student I': [('Thursday', '3PM-4PM'), ('Thursday', '4PM-5PM'), ('Saturday', '8AM-9AM'), ('Saturday', '9AM-10AM'), ('Saturday', '10AM-11AM'), ('Saturday', '11AM-12PM'), ('Saturday', '12PM-1PM'), ('Saturday', '1PM-2PM'), ('Saturday', '2PM-3PM'), ('Saturday', '3PM-4PM'), ('Saturday', '4PM-5PM'), ('Saturday', '5PM-6PM'), ('Saturday', '6PM-7PM'), ('Saturday', '7PM-8PM'), ('Saturday', '8PM-9PM'), ('Saturday', '9PM-10PM'), ('Sunday', '8AM-9AM'), ('Sunday', '9AM-10AM'), ('Sunday', '10AM-11AM'), ('Sunday', '11AM-12PM'), ('Sunday', '12PM-1PM'), ('Sunday', '1PM-2PM'), ('Sunday', '2PM-3PM'), ('Sunday', '3PM-4PM'), ('Sunday', '4PM-5PM'), ('Sunday', '5PM-6PM'), ('Sunday', '6PM-7PM'), ('Sunday', '7PM-8PM'), ('Sunday', '8PM-9PM'), ('Sunday', '9PM-10PM')], 'Student J': [('Monday', '8PM-9PM'), ('Monday', '9PM-10PM'), ('Tuesday', '8PM-9PM'), ('Tuesday', '9PM-10PM'), ('Wednesday', '8PM-9PM'), ('Wednesday', '9PM-10PM'), ('Thursday', '8PM-9PM'), ('Thursday', '9PM-10PM'), ('Friday', '8PM-9PM'), ('Friday', '9PM-10PM'), ('Saturday', '8AM-9AM'), ('Saturday', '9AM-10AM'), ('Saturday', '10AM-11AM'), ('Saturday', '11AM-12PM'), ('Saturday', '12PM-1PM'), ('Saturday', '1PM-2PM'), ('Saturday', '2PM-3PM'), ('Saturday', '3PM-4PM'), ('Saturday', '4PM-5PM'), ('Saturday', '5PM-6PM'), ('Saturday', '6PM-7PM'), ('Saturday', '7PM-8PM'), ('Saturday', '8PM-9PM'), ('Saturday', '9PM-10PM')]}\n"
     ]
    }
   ],
   "source": [
    "import re\n",
    "import ast\n",
    "\n",
    "dict_pattern = r'unavailability = (\\{.*?\\})'\n",
    "match = re.search(dict_pattern, response_text, re.DOTALL)\n",
    "\n",
    "# If a match is found, evaluate it as a dictionary\n",
    "if match:\n",
    "    dict_str = match.group(1)  # Extract dictionary string\n",
    "    unavailability = ast.literal_eval(dict_str)  # Convert string to dictionary\n",
    "    print(\"Extracted unavailability dictionary:\")\n",
    "    print(unavailability)\n",
    "else:\n",
    "    print(\"No dictionary found in the response.\")"
   ]
  },
  {
   "cell_type": "code",
   "execution_count": 5,
   "id": "d2133475-f778-46d3-b14c-f628f1c60341",
   "metadata": {},
   "outputs": [
    {
     "ename": "PermissionError",
     "evalue": "[Errno 13] Permission denied: 'unavailability_timetable.xlsx'",
     "output_type": "error",
     "traceback": [
      "\u001b[1;31m---------------------------------------------------------------------------\u001b[0m",
      "\u001b[1;31mPermissionError\u001b[0m                           Traceback (most recent call last)",
      "Cell \u001b[1;32mIn[5], line 32\u001b[0m\n\u001b[0;32m     30\u001b[0m \u001b[38;5;28;01mif\u001b[39;00m unavailability:  \u001b[38;5;66;03m# Check if dictionary is not empty\u001b[39;00m\n\u001b[0;32m     31\u001b[0m     unavailability_df \u001b[38;5;241m=\u001b[39m create_unavailability_dataframe(unavailability)\n\u001b[1;32m---> 32\u001b[0m     \u001b[43munavailability_df\u001b[49m\u001b[38;5;241;43m.\u001b[39;49m\u001b[43mto_excel\u001b[49m\u001b[43m(\u001b[49m\u001b[38;5;124;43m\"\u001b[39;49m\u001b[38;5;124;43munavailability_timetable.xlsx\u001b[39;49m\u001b[38;5;124;43m\"\u001b[39;49m\u001b[43m,\u001b[49m\u001b[43m \u001b[49m\u001b[43mindex\u001b[49m\u001b[38;5;241;43m=\u001b[39;49m\u001b[38;5;28;43;01mTrue\u001b[39;49;00m\u001b[43m)\u001b[49m\n\u001b[0;32m     33\u001b[0m     \u001b[38;5;28mprint\u001b[39m(\u001b[38;5;124m\"\u001b[39m\u001b[38;5;124mTimetable saved to \u001b[39m\u001b[38;5;124m'\u001b[39m\u001b[38;5;124munavailability_timetable.xlsx\u001b[39m\u001b[38;5;124m'\u001b[39m\u001b[38;5;124m.\u001b[39m\u001b[38;5;124m\"\u001b[39m)\n\u001b[0;32m     34\u001b[0m \u001b[38;5;28;01melse\u001b[39;00m:\n",
      "File \u001b[1;32mC:\\Python39\\lib\\site-packages\\pandas\\core\\generic.py:2252\u001b[0m, in \u001b[0;36mNDFrame.to_excel\u001b[1;34m(self, excel_writer, sheet_name, na_rep, float_format, columns, header, index, index_label, startrow, startcol, engine, merge_cells, inf_rep, freeze_panes, storage_options)\u001b[0m\n\u001b[0;32m   2239\u001b[0m \u001b[38;5;28;01mfrom\u001b[39;00m \u001b[38;5;21;01mpandas\u001b[39;00m\u001b[38;5;21;01m.\u001b[39;00m\u001b[38;5;21;01mio\u001b[39;00m\u001b[38;5;21;01m.\u001b[39;00m\u001b[38;5;21;01mformats\u001b[39;00m\u001b[38;5;21;01m.\u001b[39;00m\u001b[38;5;21;01mexcel\u001b[39;00m \u001b[38;5;28;01mimport\u001b[39;00m ExcelFormatter\n\u001b[0;32m   2241\u001b[0m formatter \u001b[38;5;241m=\u001b[39m ExcelFormatter(\n\u001b[0;32m   2242\u001b[0m     df,\n\u001b[0;32m   2243\u001b[0m     na_rep\u001b[38;5;241m=\u001b[39mna_rep,\n\u001b[1;32m   (...)\u001b[0m\n\u001b[0;32m   2250\u001b[0m     inf_rep\u001b[38;5;241m=\u001b[39minf_rep,\n\u001b[0;32m   2251\u001b[0m )\n\u001b[1;32m-> 2252\u001b[0m \u001b[43mformatter\u001b[49m\u001b[38;5;241;43m.\u001b[39;49m\u001b[43mwrite\u001b[49m\u001b[43m(\u001b[49m\n\u001b[0;32m   2253\u001b[0m \u001b[43m    \u001b[49m\u001b[43mexcel_writer\u001b[49m\u001b[43m,\u001b[49m\n\u001b[0;32m   2254\u001b[0m \u001b[43m    \u001b[49m\u001b[43msheet_name\u001b[49m\u001b[38;5;241;43m=\u001b[39;49m\u001b[43msheet_name\u001b[49m\u001b[43m,\u001b[49m\n\u001b[0;32m   2255\u001b[0m \u001b[43m    \u001b[49m\u001b[43mstartrow\u001b[49m\u001b[38;5;241;43m=\u001b[39;49m\u001b[43mstartrow\u001b[49m\u001b[43m,\u001b[49m\n\u001b[0;32m   2256\u001b[0m \u001b[43m    \u001b[49m\u001b[43mstartcol\u001b[49m\u001b[38;5;241;43m=\u001b[39;49m\u001b[43mstartcol\u001b[49m\u001b[43m,\u001b[49m\n\u001b[0;32m   2257\u001b[0m \u001b[43m    \u001b[49m\u001b[43mfreeze_panes\u001b[49m\u001b[38;5;241;43m=\u001b[39;49m\u001b[43mfreeze_panes\u001b[49m\u001b[43m,\u001b[49m\n\u001b[0;32m   2258\u001b[0m \u001b[43m    \u001b[49m\u001b[43mengine\u001b[49m\u001b[38;5;241;43m=\u001b[39;49m\u001b[43mengine\u001b[49m\u001b[43m,\u001b[49m\n\u001b[0;32m   2259\u001b[0m \u001b[43m    \u001b[49m\u001b[43mstorage_options\u001b[49m\u001b[38;5;241;43m=\u001b[39;49m\u001b[43mstorage_options\u001b[49m\u001b[43m,\u001b[49m\n\u001b[0;32m   2260\u001b[0m \u001b[43m\u001b[49m\u001b[43m)\u001b[49m\n",
      "File \u001b[1;32mC:\\Python39\\lib\\site-packages\\pandas\\io\\formats\\excel.py:934\u001b[0m, in \u001b[0;36mExcelFormatter.write\u001b[1;34m(self, writer, sheet_name, startrow, startcol, freeze_panes, engine, storage_options)\u001b[0m\n\u001b[0;32m    930\u001b[0m     need_save \u001b[38;5;241m=\u001b[39m \u001b[38;5;28;01mFalse\u001b[39;00m\n\u001b[0;32m    931\u001b[0m \u001b[38;5;28;01melse\u001b[39;00m:\n\u001b[0;32m    932\u001b[0m     \u001b[38;5;66;03m# error: Cannot instantiate abstract class 'ExcelWriter' with abstract\u001b[39;00m\n\u001b[0;32m    933\u001b[0m     \u001b[38;5;66;03m# attributes 'engine', 'save', 'supported_extensions' and 'write_cells'\u001b[39;00m\n\u001b[1;32m--> 934\u001b[0m     writer \u001b[38;5;241m=\u001b[39m \u001b[43mExcelWriter\u001b[49m\u001b[43m(\u001b[49m\u001b[43m  \u001b[49m\u001b[38;5;66;43;03m# type: ignore[abstract]\u001b[39;49;00m\n\u001b[0;32m    935\u001b[0m \u001b[43m        \u001b[49m\u001b[43mwriter\u001b[49m\u001b[43m,\u001b[49m\u001b[43m \u001b[49m\u001b[43mengine\u001b[49m\u001b[38;5;241;43m=\u001b[39;49m\u001b[43mengine\u001b[49m\u001b[43m,\u001b[49m\u001b[43m \u001b[49m\u001b[43mstorage_options\u001b[49m\u001b[38;5;241;43m=\u001b[39;49m\u001b[43mstorage_options\u001b[49m\n\u001b[0;32m    936\u001b[0m \u001b[43m    \u001b[49m\u001b[43m)\u001b[49m\n\u001b[0;32m    937\u001b[0m     need_save \u001b[38;5;241m=\u001b[39m \u001b[38;5;28;01mTrue\u001b[39;00m\n\u001b[0;32m    939\u001b[0m \u001b[38;5;28;01mtry\u001b[39;00m:\n",
      "File \u001b[1;32mC:\\Python39\\lib\\site-packages\\pandas\\io\\excel\\_openpyxl.py:60\u001b[0m, in \u001b[0;36mOpenpyxlWriter.__init__\u001b[1;34m(self, path, engine, date_format, datetime_format, mode, storage_options, if_sheet_exists, engine_kwargs, **kwargs)\u001b[0m\n\u001b[0;32m     56\u001b[0m \u001b[38;5;28;01mfrom\u001b[39;00m \u001b[38;5;21;01mopenpyxl\u001b[39;00m\u001b[38;5;21;01m.\u001b[39;00m\u001b[38;5;21;01mworkbook\u001b[39;00m \u001b[38;5;28;01mimport\u001b[39;00m Workbook\n\u001b[0;32m     58\u001b[0m engine_kwargs \u001b[38;5;241m=\u001b[39m combine_kwargs(engine_kwargs, kwargs)\n\u001b[1;32m---> 60\u001b[0m \u001b[38;5;28;43msuper\u001b[39;49m\u001b[43m(\u001b[49m\u001b[43m)\u001b[49m\u001b[38;5;241;43m.\u001b[39;49m\u001b[38;5;21;43m__init__\u001b[39;49m\u001b[43m(\u001b[49m\n\u001b[0;32m     61\u001b[0m \u001b[43m    \u001b[49m\u001b[43mpath\u001b[49m\u001b[43m,\u001b[49m\n\u001b[0;32m     62\u001b[0m \u001b[43m    \u001b[49m\u001b[43mmode\u001b[49m\u001b[38;5;241;43m=\u001b[39;49m\u001b[43mmode\u001b[49m\u001b[43m,\u001b[49m\n\u001b[0;32m     63\u001b[0m \u001b[43m    \u001b[49m\u001b[43mstorage_options\u001b[49m\u001b[38;5;241;43m=\u001b[39;49m\u001b[43mstorage_options\u001b[49m\u001b[43m,\u001b[49m\n\u001b[0;32m     64\u001b[0m \u001b[43m    \u001b[49m\u001b[43mif_sheet_exists\u001b[49m\u001b[38;5;241;43m=\u001b[39;49m\u001b[43mif_sheet_exists\u001b[49m\u001b[43m,\u001b[49m\n\u001b[0;32m     65\u001b[0m \u001b[43m    \u001b[49m\u001b[43mengine_kwargs\u001b[49m\u001b[38;5;241;43m=\u001b[39;49m\u001b[43mengine_kwargs\u001b[49m\u001b[43m,\u001b[49m\n\u001b[0;32m     66\u001b[0m \u001b[43m\u001b[49m\u001b[43m)\u001b[49m\n\u001b[0;32m     68\u001b[0m \u001b[38;5;66;03m# ExcelWriter replaced \"a\" by \"r+\" to allow us to first read the excel file from\u001b[39;00m\n\u001b[0;32m     69\u001b[0m \u001b[38;5;66;03m# the file and later write to it\u001b[39;00m\n\u001b[0;32m     70\u001b[0m \u001b[38;5;28;01mif\u001b[39;00m \u001b[38;5;124m\"\u001b[39m\u001b[38;5;124mr+\u001b[39m\u001b[38;5;124m\"\u001b[39m \u001b[38;5;129;01min\u001b[39;00m \u001b[38;5;28mself\u001b[39m\u001b[38;5;241m.\u001b[39m_mode:  \u001b[38;5;66;03m# Load from existing workbook\u001b[39;00m\n",
      "File \u001b[1;32mC:\\Python39\\lib\\site-packages\\pandas\\io\\excel\\_base.py:1219\u001b[0m, in \u001b[0;36mExcelWriter.__init__\u001b[1;34m(self, path, engine, date_format, datetime_format, mode, storage_options, if_sheet_exists, engine_kwargs)\u001b[0m\n\u001b[0;32m   1215\u001b[0m \u001b[38;5;28mself\u001b[39m\u001b[38;5;241m.\u001b[39m_handles \u001b[38;5;241m=\u001b[39m IOHandles(\n\u001b[0;32m   1216\u001b[0m     cast(IO[\u001b[38;5;28mbytes\u001b[39m], path), compression\u001b[38;5;241m=\u001b[39m{\u001b[38;5;124m\"\u001b[39m\u001b[38;5;124mcompression\u001b[39m\u001b[38;5;124m\"\u001b[39m: \u001b[38;5;28;01mNone\u001b[39;00m}\n\u001b[0;32m   1217\u001b[0m )\n\u001b[0;32m   1218\u001b[0m \u001b[38;5;28;01mif\u001b[39;00m \u001b[38;5;129;01mnot\u001b[39;00m \u001b[38;5;28misinstance\u001b[39m(path, ExcelWriter):\n\u001b[1;32m-> 1219\u001b[0m     \u001b[38;5;28mself\u001b[39m\u001b[38;5;241m.\u001b[39m_handles \u001b[38;5;241m=\u001b[39m \u001b[43mget_handle\u001b[49m\u001b[43m(\u001b[49m\n\u001b[0;32m   1220\u001b[0m \u001b[43m        \u001b[49m\u001b[43mpath\u001b[49m\u001b[43m,\u001b[49m\u001b[43m \u001b[49m\u001b[43mmode\u001b[49m\u001b[43m,\u001b[49m\u001b[43m \u001b[49m\u001b[43mstorage_options\u001b[49m\u001b[38;5;241;43m=\u001b[39;49m\u001b[43mstorage_options\u001b[49m\u001b[43m,\u001b[49m\u001b[43m \u001b[49m\u001b[43mis_text\u001b[49m\u001b[38;5;241;43m=\u001b[39;49m\u001b[38;5;28;43;01mFalse\u001b[39;49;00m\n\u001b[0;32m   1221\u001b[0m \u001b[43m    \u001b[49m\u001b[43m)\u001b[49m\n\u001b[0;32m   1222\u001b[0m \u001b[38;5;28mself\u001b[39m\u001b[38;5;241m.\u001b[39m_cur_sheet \u001b[38;5;241m=\u001b[39m \u001b[38;5;28;01mNone\u001b[39;00m\n\u001b[0;32m   1224\u001b[0m \u001b[38;5;28;01mif\u001b[39;00m date_format \u001b[38;5;129;01mis\u001b[39;00m \u001b[38;5;28;01mNone\u001b[39;00m:\n",
      "File \u001b[1;32mC:\\Python39\\lib\\site-packages\\pandas\\io\\common.py:868\u001b[0m, in \u001b[0;36mget_handle\u001b[1;34m(path_or_buf, mode, encoding, compression, memory_map, is_text, errors, storage_options)\u001b[0m\n\u001b[0;32m    859\u001b[0m         handle \u001b[38;5;241m=\u001b[39m \u001b[38;5;28mopen\u001b[39m(\n\u001b[0;32m    860\u001b[0m             handle,\n\u001b[0;32m    861\u001b[0m             ioargs\u001b[38;5;241m.\u001b[39mmode,\n\u001b[1;32m   (...)\u001b[0m\n\u001b[0;32m    864\u001b[0m             newline\u001b[38;5;241m=\u001b[39m\u001b[38;5;124m\"\u001b[39m\u001b[38;5;124m\"\u001b[39m,\n\u001b[0;32m    865\u001b[0m         )\n\u001b[0;32m    866\u001b[0m     \u001b[38;5;28;01melse\u001b[39;00m:\n\u001b[0;32m    867\u001b[0m         \u001b[38;5;66;03m# Binary mode\u001b[39;00m\n\u001b[1;32m--> 868\u001b[0m         handle \u001b[38;5;241m=\u001b[39m \u001b[38;5;28;43mopen\u001b[39;49m\u001b[43m(\u001b[49m\u001b[43mhandle\u001b[49m\u001b[43m,\u001b[49m\u001b[43m \u001b[49m\u001b[43mioargs\u001b[49m\u001b[38;5;241;43m.\u001b[39;49m\u001b[43mmode\u001b[49m\u001b[43m)\u001b[49m\n\u001b[0;32m    869\u001b[0m     handles\u001b[38;5;241m.\u001b[39mappend(handle)\n\u001b[0;32m    871\u001b[0m \u001b[38;5;66;03m# Convert BytesIO or file objects passed with an encoding\u001b[39;00m\n",
      "\u001b[1;31mPermissionError\u001b[0m: [Errno 13] Permission denied: 'unavailability_timetable.xlsx'"
     ]
    }
   ],
   "source": [
    "# Define the function to create the full timetable DataFrame\n",
    "def create_unavailability_dataframe(unavailability):\n",
    "    # Define time slots and days\n",
    "    timeslots = [\"8AM-9AM\", \"9AM-10AM\", \"10AM-11AM\", \"11AM-12PM\", \"12PM-1PM\",\n",
    "                 \"1PM-2PM\", \"2PM-3PM\", \"3PM-4PM\", \"4PM-5PM\", \"5PM-6PM\",\n",
    "                 \"6PM-7PM\", \"7PM-8PM\", \"8PM-9PM\", \"9PM-10PM\"]\n",
    "    days = [\"Monday\", \"Tuesday\", \"Wednesday\", \"Thursday\", \"Friday\", \"Saturday\", \"Sunday\"]\n",
    "    \n",
    "    # Initialize an empty DataFrame with timeslots as rows and days as columns\n",
    "    df = pd.DataFrame(index=timeslots, columns=days)\n",
    "    \n",
    "    # Fill in the DataFrame with unavailability data\n",
    "    for student, unavailable_times in unavailability.items():\n",
    "        for day, slot in unavailable_times:\n",
    "            try:\n",
    "                # Append the student to the specific day and timeslot\n",
    "                if pd.notna(df.loc[slot, day]):\n",
    "                    df.loc[slot, day] += student[-1]  # Append student initial (e.g., \"A\" for \"Student A\")\n",
    "                else:\n",
    "                    df.loc[slot, day] = student[-1]\n",
    "            except KeyError as e:\n",
    "                print(f\"KeyError: {e} - Day '{day}' or timeslot '{slot}' not found in the DataFrame.\")\n",
    "    \n",
    "    # Replace NaNs with empty strings for a cleaner output\n",
    "    df = df.fillna(\"\")\n",
    "    return df\n",
    "\n",
    "# Generate the timetable DataFrame and save to Excel\n",
    "\n",
    "if unavailability:  # Check if dictionary is not empty\n",
    "    unavailability_df = create_unavailability_dataframe(unavailability)\n",
    "    unavailability_df.to_excel(\"unavailability_timetable.xlsx\", index=True)\n",
    "    print(\"Timetable saved to 'unavailability_timetable.xlsx'.\")\n",
    "else:\n",
    "    print(\"No unavailability data to process.\")"
   ]
  },
  {
   "cell_type": "code",
   "execution_count": null,
   "id": "72c808cf-0574-40b8-bd55-aaf1dc1accd9",
   "metadata": {},
   "outputs": [],
   "source": []
  }
 ],
 "metadata": {
  "kernelspec": {
   "display_name": "Python 3 (ipykernel)",
   "language": "python",
   "name": "python3"
  },
  "language_info": {
   "codemirror_mode": {
    "name": "ipython",
    "version": 3
   },
   "file_extension": ".py",
   "mimetype": "text/x-python",
   "name": "python",
   "nbconvert_exporter": "python",
   "pygments_lexer": "ipython3",
   "version": "3.9.11"
  }
 },
 "nbformat": 4,
 "nbformat_minor": 5
}
